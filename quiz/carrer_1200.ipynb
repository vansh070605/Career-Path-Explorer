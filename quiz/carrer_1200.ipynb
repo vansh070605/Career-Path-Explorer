{
 "cells": [
  {
   "cell_type": "markdown",
   "id": "5423529f",
   "metadata": {},
   "source": [
    "# Step 1: Import libraries\n"
   ]
  },
  {
   "cell_type": "code",
   "execution_count": 22,
   "id": "ed0a9284",
   "metadata": {},
   "outputs": [],
   "source": [
    "import pandas as pd\n",
    "from sklearn.model_selection import train_test_split\n",
    "from sklearn.feature_extraction.text import TfidfVectorizer\n",
    "from sklearn.linear_model import LogisticRegression\n",
    "from sklearn.metrics import classification_report, accuracy_score"
   ]
  },
  {
   "cell_type": "markdown",
   "id": "c1cdad27",
   "metadata": {},
   "source": [
    "# Step 2: Load dataset"
   ]
  },
  {
   "cell_type": "code",
   "execution_count": 23,
   "id": "3bfe2553",
   "metadata": {},
   "outputs": [],
   "source": [
    "df = pd.read_csv(\"career_quiz_dataset_1200.csv\")\n"
   ]
  },
  {
   "cell_type": "markdown",
   "id": "0c500210",
   "metadata": {},
   "source": [
    "# Peek at the data"
   ]
  },
  {
   "cell_type": "code",
   "execution_count": 24,
   "id": "9fcee619",
   "metadata": {},
   "outputs": [
    {
     "name": "stdout",
     "output_type": "stream",
     "text": [
      "  StudentID     Q1_Favorite_Subjects         Q2_Enjoyed_Activities  \\\n",
      "0    S00001   Economics, Accountancy             Debating, Reading   \n",
      "1    S00002  Computer Science, Maths         Experiments, Research   \n",
      "2    S00003  Maths, Computer Science       Public Speaking, Coding   \n",
      "3    S00004       Chemistry, Physics               Drawing, Sports   \n",
      "4    S00005       Physics, Chemistry  Experiments, Solving Puzzles   \n",
      "\n",
      "             Q3_Strongest_Skills Q4_Work_Style Q5_Workplace_Preference  \\\n",
      "0      Communication, Creativity          Both                 Startup   \n",
      "1       Design Thinking, Writing     Practical            Research Lab   \n",
      "2  Problem Solving, Presentation   Theoretical                 Startup   \n",
      "3            Leadership, Writing     Practical                Outdoors   \n",
      "4             Research, Teamwork   Theoretical                Outdoors   \n",
      "\n",
      "  Q6_Exam_Readiness Q7_Location_Preference      Q8_Career_Values  \\\n",
      "0             Maybe                 Abroad          Job Security   \n",
      "1             Maybe                 Abroad  Creativity & Freedom   \n",
      "2                No                  India              Balanced   \n",
      "3               Yes                 Abroad  Creativity & Freedom   \n",
      "4             Maybe                 Abroad          Job Security   \n",
      "\n",
      "  Q9_LongTerm_Goal Q10_Academic_Background Recommended_Course  \\\n",
      "0           Doctor             Science-64%              B.Com   \n",
      "1          Teacher             Science-98%  B.Tech Mechanical   \n",
      "2          Teacher                Arts-79%         B.Tech CSE   \n",
      "3    Civil Servant            Commerce-68%         B.Tech ECE   \n",
      "4           Artist                Arts-91%  B.Tech Mechanical   \n",
      "\n",
      "          Recommended_Career Recommended_College_Type  Recommendation_Score  \n",
      "0                 Accountant                   Tier-2                  0.79  \n",
      "1        Mechanical Engineer                   Tier-2                  0.95  \n",
      "2          Software Engineer                   Tier-2                  0.91  \n",
      "3  Embedded Systems Engineer                   Tier-2                  0.78  \n",
      "4        Mechanical Engineer                   Tier-2                  0.94  \n"
     ]
    }
   ],
   "source": [
    "print(df.head())\n"
   ]
  },
  {
   "cell_type": "markdown",
   "id": "5ec3b656",
   "metadata": {},
   "source": [
    "# Step 3: Split features/labels"
   ]
  },
  {
   "cell_type": "code",
   "execution_count": 25,
   "id": "f262e7de",
   "metadata": {},
   "outputs": [
    {
     "name": "stdout",
     "output_type": "stream",
     "text": [
      "Index(['StudentID', 'Q1_Favorite_Subjects', 'Q2_Enjoyed_Activities',\n",
      "       'Q3_Strongest_Skills', 'Q4_Work_Style', 'Q5_Workplace_Preference',\n",
      "       'Q6_Exam_Readiness', 'Q7_Location_Preference', 'Q8_Career_Values',\n",
      "       'Q9_LongTerm_Goal', 'Q10_Academic_Background', 'Recommended_Course',\n",
      "       'Recommended_Career', 'Recommended_College_Type',\n",
      "       'Recommendation_Score'],\n",
      "      dtype='object')\n",
      "  StudentID     Q1_Favorite_Subjects         Q2_Enjoyed_Activities  \\\n",
      "0    S00001   Economics, Accountancy             Debating, Reading   \n",
      "1    S00002  Computer Science, Maths         Experiments, Research   \n",
      "2    S00003  Maths, Computer Science       Public Speaking, Coding   \n",
      "3    S00004       Chemistry, Physics               Drawing, Sports   \n",
      "4    S00005       Physics, Chemistry  Experiments, Solving Puzzles   \n",
      "\n",
      "             Q3_Strongest_Skills Q4_Work_Style Q5_Workplace_Preference  \\\n",
      "0      Communication, Creativity          Both                 Startup   \n",
      "1       Design Thinking, Writing     Practical            Research Lab   \n",
      "2  Problem Solving, Presentation   Theoretical                 Startup   \n",
      "3            Leadership, Writing     Practical                Outdoors   \n",
      "4             Research, Teamwork   Theoretical                Outdoors   \n",
      "\n",
      "  Q6_Exam_Readiness Q7_Location_Preference      Q8_Career_Values  \\\n",
      "0             Maybe                 Abroad          Job Security   \n",
      "1             Maybe                 Abroad  Creativity & Freedom   \n",
      "2                No                  India              Balanced   \n",
      "3               Yes                 Abroad  Creativity & Freedom   \n",
      "4             Maybe                 Abroad          Job Security   \n",
      "\n",
      "  Q9_LongTerm_Goal Q10_Academic_Background Recommended_Course  \\\n",
      "0           Doctor             Science-64%              B.Com   \n",
      "1          Teacher             Science-98%  B.Tech Mechanical   \n",
      "2          Teacher                Arts-79%         B.Tech CSE   \n",
      "3    Civil Servant            Commerce-68%         B.Tech ECE   \n",
      "4           Artist                Arts-91%  B.Tech Mechanical   \n",
      "\n",
      "          Recommended_Career Recommended_College_Type  Recommendation_Score  \n",
      "0                 Accountant                   Tier-2                  0.79  \n",
      "1        Mechanical Engineer                   Tier-2                  0.95  \n",
      "2          Software Engineer                   Tier-2                  0.91  \n",
      "3  Embedded Systems Engineer                   Tier-2                  0.78  \n",
      "4        Mechanical Engineer                   Tier-2                  0.94  \n"
     ]
    }
   ],
   "source": [
    "import pandas as pd\n",
    "\n",
    "df = pd.read_csv(\"career_quiz_dataset_1200.csv\")\n",
    "\n",
    "print(df.columns)   # show all column names\n",
    "print(df.head())    # preview first rows\n"
   ]
  },
  {
   "cell_type": "code",
   "execution_count": 26,
   "id": "4c3e1b85",
   "metadata": {},
   "outputs": [
    {
     "name": "stdout",
     "output_type": "stream",
     "text": [
      "Accuracy: 0.3125\n",
      "                           precision    recall  f1-score   support\n",
      "\n",
      "               Accountant       0.25      0.12      0.17         8\n",
      "          Artist/Designer       0.09      0.07      0.08        14\n",
      "          Ayurveda Doctor       0.00      0.00      0.00         1\n",
      "         Business Analyst       0.00      0.00      0.00         6\n",
      "           Civil Engineer       0.00      0.00      0.00        12\n",
      "             Counselor/HR       0.25      0.09      0.13        11\n",
      "                  Dentist       0.00      0.00      0.00         1\n",
      "                   Doctor       0.00      0.00      0.00         1\n",
      "        Economist/Analyst       0.25      0.10      0.14        10\n",
      "Embedded Systems Engineer       0.14      0.07      0.10        14\n",
      "        Financial Analyst       0.00      0.00      0.00         6\n",
      "        Homeopathy Doctor       0.00      0.00      0.00         1\n",
      "              IT Engineer       0.00      0.00      0.00        11\n",
      "    IT Support/Technician       0.17      0.08      0.11        13\n",
      "       Investment Analyst       0.10      0.12      0.11         8\n",
      "          Junior Designer       0.50      0.42      0.45        12\n",
      "      Mechanical Engineer       0.00      0.00      0.00        11\n",
      "    Public Policy Analyst       0.22      0.20      0.21        10\n",
      "     Researcher/Archivist       0.24      0.38      0.29        13\n",
      "        Software Engineer       0.39      0.98      0.56        57\n",
      "  Technician - Electrical       0.00      0.00      0.00        10\n",
      "  Technician - Mechanical       0.00      0.00      0.00        10\n",
      "\n",
      "                 accuracy                           0.31       240\n",
      "                macro avg       0.12      0.12      0.11       240\n",
      "             weighted avg       0.20      0.31      0.22       240\n",
      "\n"
     ]
    },
    {
     "name": "stderr",
     "output_type": "stream",
     "text": [
      "C:\\Users\\vr740\\AppData\\Local\\Packages\\PythonSoftwareFoundation.Python.3.13_qbz5n2kfra8p0\\LocalCache\\local-packages\\Python313\\site-packages\\sklearn\\metrics\\_classification.py:1731: UndefinedMetricWarning: Precision is ill-defined and being set to 0.0 in labels with no predicted samples. Use `zero_division` parameter to control this behavior.\n",
      "  _warn_prf(average, modifier, f\"{metric.capitalize()} is\", result.shape[0])\n",
      "C:\\Users\\vr740\\AppData\\Local\\Packages\\PythonSoftwareFoundation.Python.3.13_qbz5n2kfra8p0\\LocalCache\\local-packages\\Python313\\site-packages\\sklearn\\metrics\\_classification.py:1731: UndefinedMetricWarning: Precision is ill-defined and being set to 0.0 in labels with no predicted samples. Use `zero_division` parameter to control this behavior.\n",
      "  _warn_prf(average, modifier, f\"{metric.capitalize()} is\", result.shape[0])\n",
      "C:\\Users\\vr740\\AppData\\Local\\Packages\\PythonSoftwareFoundation.Python.3.13_qbz5n2kfra8p0\\LocalCache\\local-packages\\Python313\\site-packages\\sklearn\\metrics\\_classification.py:1731: UndefinedMetricWarning: Precision is ill-defined and being set to 0.0 in labels with no predicted samples. Use `zero_division` parameter to control this behavior.\n",
      "  _warn_prf(average, modifier, f\"{metric.capitalize()} is\", result.shape[0])\n"
     ]
    }
   ],
   "source": [
    "import pandas as pd\n",
    "from sklearn.model_selection import train_test_split\n",
    "from sklearn.feature_extraction.text import TfidfVectorizer\n",
    "from sklearn.linear_model import LogisticRegression\n",
    "from sklearn.pipeline import Pipeline\n",
    "from sklearn.metrics import accuracy_score, classification_report\n",
    "\n",
    "# Load data\n",
    "df = pd.read_csv(\"career_quiz_dataset_1200.csv\")\n",
    "\n",
    "# Combine all quiz answers into a single text feature\n",
    "feature_cols = [\n",
    "    'Q1_Favorite_Subjects', 'Q2_Enjoyed_Activities', 'Q3_Strongest_Skills',\n",
    "    'Q4_Work_Style', 'Q5_Workplace_Preference', 'Q6_Exam_Readiness',\n",
    "    'Q7_Location_Preference', 'Q8_Career_Values', 'Q9_LongTerm_Goal',\n",
    "    'Q10_Academic_Background'\n",
    "]\n",
    "\n",
    "df[\"combined_features\"] = df[feature_cols].astype(str).agg(\" \".join, axis=1)\n",
    "\n",
    "# Features and target\n",
    "X = df[\"combined_features\"]\n",
    "y = df[\"Recommended_Career\"]\n",
    "\n",
    "# Train-test split\n",
    "X_train, X_test, y_train, y_test = train_test_split(\n",
    "    X, y, test_size=0.2, random_state=42, stratify=y\n",
    ")\n",
    "\n",
    "# Build pipeline: TF-IDF + Logistic Regression\n",
    "pipeline = Pipeline([\n",
    "    (\"tfidf\", TfidfVectorizer(max_features=5000, stop_words=\"english\")),\n",
    "    (\"clf\", LogisticRegression(max_iter=2000))\n",
    "])\n",
    "\n",
    "# Train\n",
    "pipeline.fit(X_train, y_train)\n",
    "\n",
    "# Evaluate\n",
    "y_pred = pipeline.predict(X_test)\n",
    "print(\"Accuracy:\", accuracy_score(y_test, y_pred))\n",
    "print(classification_report(y_test, y_pred))\n"
   ]
  },
  {
   "cell_type": "markdown",
   "id": "e1d22913",
   "metadata": {},
   "source": [
    "Logistic Regression"
   ]
  },
  {
   "cell_type": "code",
   "execution_count": 27,
   "id": "965d37d3",
   "metadata": {},
   "outputs": [],
   "source": [
    "pipeline = Pipeline([\n",
    "    (\"tfidf\", TfidfVectorizer(max_features=5000, stop_words=\"english\")),\n",
    "    (\"clf\", LogisticRegression(max_iter=2000, class_weight=\"balanced\"))\n",
    "])\n"
   ]
  },
  {
   "cell_type": "markdown",
   "id": "83b51f35",
   "metadata": {},
   "source": [
    "Random Forest with Label Encoding"
   ]
  },
  {
   "cell_type": "code",
   "execution_count": 28,
   "id": "27fe340c",
   "metadata": {},
   "outputs": [
    {
     "name": "stdout",
     "output_type": "stream",
     "text": [
      "Train accuracy: 1.0\n"
     ]
    }
   ],
   "source": [
    "from sklearn.preprocessing import LabelEncoder\n",
    "from sklearn.ensemble import RandomForestClassifier\n",
    "\n",
    "# Encode target\n",
    "le = LabelEncoder()\n",
    "y = le.fit_transform(df[\"Recommended_Career\"])\n",
    "\n",
    "# Encode categorical text features as strings\n",
    "X = df[feature_cols].astype(str)\n",
    "\n",
    "# Simple bag-of-words encoding per column (concat all text)\n",
    "X_combined = X.agg(\" \".join, axis=1)\n",
    "\n",
    "# Vectorize\n",
    "vectorizer = TfidfVectorizer(max_features=5000, stop_words=\"english\")\n",
    "X_vec = vectorizer.fit_transform(X_combined)\n",
    "\n",
    "# Train Random Forest\n",
    "model = RandomForestClassifier(n_estimators=300, random_state=42)\n",
    "model.fit(X_vec, y)\n",
    "\n",
    "# Evaluate\n",
    "y_pred = model.predict(X_vec)\n",
    "print(\"Train accuracy:\", accuracy_score(y, y_pred))\n"
   ]
  },
  {
   "cell_type": "markdown",
   "id": "39503e82",
   "metadata": {},
   "source": [
    "BERT (Best Long-Term Approach)"
   ]
  },
  {
   "cell_type": "code",
   "execution_count": 29,
   "id": "768d9f88",
   "metadata": {},
   "outputs": [],
   "source": [
    "from transformers import AutoTokenizer, AutoModelForSequenceClassification, Trainer, TrainingArguments\n",
    "import torch\n",
    "from sklearn.model_selection import train_test_split\n",
    "from datasets import Dataset\n",
    "\n",
    "# Load data\n",
    "df[\"combined_features\"] = df[feature_cols].astype(str).agg(\" \".join, axis=1)\n",
    "train_texts, test_texts, train_labels, test_labels = train_test_split(\n",
    "    df[\"combined_features\"], df[\"Recommended_Career\"], test_size=0.2, stratify=df[\"Recommended_Career\"]\n",
    ")\n",
    "\n",
    "# Hugging Face dataset\n",
    "dataset = Dataset.from_dict({\"text\": train_texts, \"label\": train_labels})\n",
    "\n",
    "# Tokenizer & model\n",
    "tokenizer = AutoTokenizer.from_pretrained(\"distilbert-base-uncased\")\n",
    "# (need to encode labels to integers here before training)\n",
    "\n"
   ]
  },
  {
   "cell_type": "code",
   "execution_count": 30,
   "id": "1923ebac",
   "metadata": {},
   "outputs": [
    {
     "name": "stdout",
     "output_type": "stream",
     "text": [
      "Defaulting to user installation because normal site-packages is not writeable\n",
      "Requirement already satisfied: datasets in c:\\users\\vr740\\appdata\\local\\packages\\pythonsoftwarefoundation.python.3.13_qbz5n2kfra8p0\\localcache\\local-packages\\python313\\site-packages (4.1.0)\n",
      "Requirement already satisfied: filelock in c:\\users\\vr740\\appdata\\local\\packages\\pythonsoftwarefoundation.python.3.13_qbz5n2kfra8p0\\localcache\\local-packages\\python313\\site-packages (from datasets) (3.19.1)\n",
      "Requirement already satisfied: numpy>=1.17 in c:\\users\\vr740\\appdata\\local\\packages\\pythonsoftwarefoundation.python.3.13_qbz5n2kfra8p0\\localcache\\local-packages\\python313\\site-packages (from datasets) (2.3.3)\n",
      "Requirement already satisfied: pyarrow>=21.0.0 in c:\\users\\vr740\\appdata\\local\\packages\\pythonsoftwarefoundation.python.3.13_qbz5n2kfra8p0\\localcache\\local-packages\\python313\\site-packages (from datasets) (21.0.0)\n",
      "Requirement already satisfied: dill<0.4.1,>=0.3.0 in c:\\users\\vr740\\appdata\\local\\packages\\pythonsoftwarefoundation.python.3.13_qbz5n2kfra8p0\\localcache\\local-packages\\python313\\site-packages (from datasets) (0.4.0)\n",
      "Requirement already satisfied: pandas in c:\\users\\vr740\\appdata\\local\\packages\\pythonsoftwarefoundation.python.3.13_qbz5n2kfra8p0\\localcache\\local-packages\\python313\\site-packages (from datasets) (2.3.2)\n",
      "Requirement already satisfied: requests>=2.32.2 in c:\\users\\vr740\\appdata\\local\\packages\\pythonsoftwarefoundation.python.3.13_qbz5n2kfra8p0\\localcache\\local-packages\\python313\\site-packages (from datasets) (2.32.5)\n",
      "Requirement already satisfied: tqdm>=4.66.3 in c:\\users\\vr740\\appdata\\local\\packages\\pythonsoftwarefoundation.python.3.13_qbz5n2kfra8p0\\localcache\\local-packages\\python313\\site-packages (from datasets) (4.67.1)\n",
      "Requirement already satisfied: xxhash in c:\\users\\vr740\\appdata\\local\\packages\\pythonsoftwarefoundation.python.3.13_qbz5n2kfra8p0\\localcache\\local-packages\\python313\\site-packages (from datasets) (3.5.0)\n",
      "Requirement already satisfied: multiprocess<0.70.17 in c:\\users\\vr740\\appdata\\local\\packages\\pythonsoftwarefoundation.python.3.13_qbz5n2kfra8p0\\localcache\\local-packages\\python313\\site-packages (from datasets) (0.70.16)\n",
      "Requirement already satisfied: fsspec<=2025.9.0,>=2023.1.0 in c:\\users\\vr740\\appdata\\local\\packages\\pythonsoftwarefoundation.python.3.13_qbz5n2kfra8p0\\localcache\\local-packages\\python313\\site-packages (from fsspec[http]<=2025.9.0,>=2023.1.0->datasets) (2025.9.0)\n",
      "Requirement already satisfied: huggingface-hub>=0.24.0 in c:\\users\\vr740\\appdata\\local\\packages\\pythonsoftwarefoundation.python.3.13_qbz5n2kfra8p0\\localcache\\local-packages\\python313\\site-packages (from datasets) (0.34.5)\n",
      "Requirement already satisfied: packaging in c:\\users\\vr740\\appdata\\local\\packages\\pythonsoftwarefoundation.python.3.13_qbz5n2kfra8p0\\localcache\\local-packages\\python313\\site-packages (from datasets) (25.0)\n",
      "Requirement already satisfied: pyyaml>=5.1 in c:\\users\\vr740\\appdata\\local\\packages\\pythonsoftwarefoundation.python.3.13_qbz5n2kfra8p0\\localcache\\local-packages\\python313\\site-packages (from datasets) (6.0.2)\n",
      "Requirement already satisfied: aiohttp!=4.0.0a0,!=4.0.0a1 in c:\\users\\vr740\\appdata\\local\\packages\\pythonsoftwarefoundation.python.3.13_qbz5n2kfra8p0\\localcache\\local-packages\\python313\\site-packages (from fsspec[http]<=2025.9.0,>=2023.1.0->datasets) (3.12.15)\n",
      "Requirement already satisfied: aiohappyeyeballs>=2.5.0 in c:\\users\\vr740\\appdata\\local\\packages\\pythonsoftwarefoundation.python.3.13_qbz5n2kfra8p0\\localcache\\local-packages\\python313\\site-packages (from aiohttp!=4.0.0a0,!=4.0.0a1->fsspec[http]<=2025.9.0,>=2023.1.0->datasets) (2.6.1)\n",
      "Requirement already satisfied: aiosignal>=1.4.0 in c:\\users\\vr740\\appdata\\local\\packages\\pythonsoftwarefoundation.python.3.13_qbz5n2kfra8p0\\localcache\\local-packages\\python313\\site-packages (from aiohttp!=4.0.0a0,!=4.0.0a1->fsspec[http]<=2025.9.0,>=2023.1.0->datasets) (1.4.0)\n",
      "Requirement already satisfied: attrs>=17.3.0 in c:\\users\\vr740\\appdata\\local\\packages\\pythonsoftwarefoundation.python.3.13_qbz5n2kfra8p0\\localcache\\local-packages\\python313\\site-packages (from aiohttp!=4.0.0a0,!=4.0.0a1->fsspec[http]<=2025.9.0,>=2023.1.0->datasets) (25.3.0)\n",
      "Requirement already satisfied: frozenlist>=1.1.1 in c:\\users\\vr740\\appdata\\local\\packages\\pythonsoftwarefoundation.python.3.13_qbz5n2kfra8p0\\localcache\\local-packages\\python313\\site-packages (from aiohttp!=4.0.0a0,!=4.0.0a1->fsspec[http]<=2025.9.0,>=2023.1.0->datasets) (1.7.0)\n",
      "Requirement already satisfied: multidict<7.0,>=4.5 in c:\\users\\vr740\\appdata\\local\\packages\\pythonsoftwarefoundation.python.3.13_qbz5n2kfra8p0\\localcache\\local-packages\\python313\\site-packages (from aiohttp!=4.0.0a0,!=4.0.0a1->fsspec[http]<=2025.9.0,>=2023.1.0->datasets) (6.6.4)\n",
      "Requirement already satisfied: propcache>=0.2.0 in c:\\users\\vr740\\appdata\\local\\packages\\pythonsoftwarefoundation.python.3.13_qbz5n2kfra8p0\\localcache\\local-packages\\python313\\site-packages (from aiohttp!=4.0.0a0,!=4.0.0a1->fsspec[http]<=2025.9.0,>=2023.1.0->datasets) (0.3.2)\n",
      "Requirement already satisfied: yarl<2.0,>=1.17.0 in c:\\users\\vr740\\appdata\\local\\packages\\pythonsoftwarefoundation.python.3.13_qbz5n2kfra8p0\\localcache\\local-packages\\python313\\site-packages (from aiohttp!=4.0.0a0,!=4.0.0a1->fsspec[http]<=2025.9.0,>=2023.1.0->datasets) (1.20.1)\n",
      "Requirement already satisfied: idna>=2.0 in c:\\users\\vr740\\appdata\\local\\packages\\pythonsoftwarefoundation.python.3.13_qbz5n2kfra8p0\\localcache\\local-packages\\python313\\site-packages (from yarl<2.0,>=1.17.0->aiohttp!=4.0.0a0,!=4.0.0a1->fsspec[http]<=2025.9.0,>=2023.1.0->datasets) (3.10)\n",
      "Requirement already satisfied: typing-extensions>=3.7.4.3 in c:\\users\\vr740\\appdata\\local\\packages\\pythonsoftwarefoundation.python.3.13_qbz5n2kfra8p0\\localcache\\local-packages\\python313\\site-packages (from huggingface-hub>=0.24.0->datasets) (4.15.0)\n",
      "Requirement already satisfied: charset_normalizer<4,>=2 in c:\\users\\vr740\\appdata\\local\\packages\\pythonsoftwarefoundation.python.3.13_qbz5n2kfra8p0\\localcache\\local-packages\\python313\\site-packages (from requests>=2.32.2->datasets) (3.4.3)\n",
      "Requirement already satisfied: urllib3<3,>=1.21.1 in c:\\users\\vr740\\appdata\\local\\packages\\pythonsoftwarefoundation.python.3.13_qbz5n2kfra8p0\\localcache\\local-packages\\python313\\site-packages (from requests>=2.32.2->datasets) (2.5.0)\n",
      "Requirement already satisfied: certifi>=2017.4.17 in c:\\users\\vr740\\appdata\\local\\packages\\pythonsoftwarefoundation.python.3.13_qbz5n2kfra8p0\\localcache\\local-packages\\python313\\site-packages (from requests>=2.32.2->datasets) (2025.8.3)\n",
      "Requirement already satisfied: colorama in c:\\users\\vr740\\appdata\\local\\packages\\pythonsoftwarefoundation.python.3.13_qbz5n2kfra8p0\\localcache\\local-packages\\python313\\site-packages (from tqdm>=4.66.3->datasets) (0.4.6)\n",
      "Requirement already satisfied: python-dateutil>=2.8.2 in c:\\users\\vr740\\appdata\\local\\packages\\pythonsoftwarefoundation.python.3.13_qbz5n2kfra8p0\\localcache\\local-packages\\python313\\site-packages (from pandas->datasets) (2.9.0.post0)\n",
      "Requirement already satisfied: pytz>=2020.1 in c:\\users\\vr740\\appdata\\local\\packages\\pythonsoftwarefoundation.python.3.13_qbz5n2kfra8p0\\localcache\\local-packages\\python313\\site-packages (from pandas->datasets) (2025.2)\n",
      "Requirement already satisfied: tzdata>=2022.7 in c:\\users\\vr740\\appdata\\local\\packages\\pythonsoftwarefoundation.python.3.13_qbz5n2kfra8p0\\localcache\\local-packages\\python313\\site-packages (from pandas->datasets) (2025.2)\n",
      "Requirement already satisfied: six>=1.5 in c:\\users\\vr740\\appdata\\local\\packages\\pythonsoftwarefoundation.python.3.13_qbz5n2kfra8p0\\localcache\\local-packages\\python313\\site-packages (from python-dateutil>=2.8.2->pandas->datasets) (1.17.0)\n",
      "Note: you may need to restart the kernel to use updated packages.\n"
     ]
    }
   ],
   "source": [
    "pip install datasets"
   ]
  },
  {
   "cell_type": "markdown",
   "id": "5f594bb1",
   "metadata": {},
   "source": [
    "Train Test Split\n"
   ]
  },
  {
   "cell_type": "code",
   "execution_count": 31,
   "id": "8de4af3a",
   "metadata": {},
   "outputs": [
    {
     "name": "stdout",
     "output_type": "stream",
     "text": [
      "Test accuracy: 0.3541666666666667\n",
      "                           precision    recall  f1-score   support\n",
      "\n",
      "               Accountant       0.60      0.38      0.46         8\n",
      "          Artist/Designer       0.25      0.21      0.23        14\n",
      "          Ayurveda Doctor       0.00      0.00      0.00         1\n",
      "         Business Analyst       0.25      0.17      0.20         6\n",
      "           Civil Engineer       0.33      0.17      0.22        12\n",
      "             Counselor/HR       0.67      0.36      0.47        11\n",
      "                  Dentist       0.00      0.00      0.00         1\n",
      "                   Doctor       0.00      0.00      0.00         1\n",
      "        Economist/Analyst       0.20      0.10      0.13        10\n",
      "Embedded Systems Engineer       0.18      0.29      0.22        14\n",
      "        Financial Analyst       0.33      0.17      0.22         6\n",
      "        Homeopathy Doctor       0.00      0.00      0.00         1\n",
      "              IT Engineer       0.00      0.00      0.00        11\n",
      "    IT Support/Technician       0.38      0.23      0.29        13\n",
      "       Investment Analyst       0.22      0.25      0.24         8\n",
      "          Junior Designer       0.50      0.08      0.14        12\n",
      "      Mechanical Engineer       0.20      0.09      0.12        11\n",
      "    Public Policy Analyst       0.10      0.10      0.10        10\n",
      "     Researcher/Archivist       0.25      0.38      0.30        13\n",
      "        Software Engineer       0.45      0.93      0.60        57\n",
      "  Technician - Electrical       0.00      0.00      0.00        10\n",
      "  Technician - Mechanical       0.00      0.00      0.00        10\n",
      "\n",
      "                 accuracy                           0.35       240\n",
      "                macro avg       0.22      0.18      0.18       240\n",
      "             weighted avg       0.30      0.35      0.29       240\n",
      "\n"
     ]
    },
    {
     "name": "stderr",
     "output_type": "stream",
     "text": [
      "C:\\Users\\vr740\\AppData\\Local\\Packages\\PythonSoftwareFoundation.Python.3.13_qbz5n2kfra8p0\\LocalCache\\local-packages\\Python313\\site-packages\\sklearn\\metrics\\_classification.py:1731: UndefinedMetricWarning: Precision is ill-defined and being set to 0.0 in labels with no predicted samples. Use `zero_division` parameter to control this behavior.\n",
      "  _warn_prf(average, modifier, f\"{metric.capitalize()} is\", result.shape[0])\n",
      "C:\\Users\\vr740\\AppData\\Local\\Packages\\PythonSoftwareFoundation.Python.3.13_qbz5n2kfra8p0\\LocalCache\\local-packages\\Python313\\site-packages\\sklearn\\metrics\\_classification.py:1731: UndefinedMetricWarning: Precision is ill-defined and being set to 0.0 in labels with no predicted samples. Use `zero_division` parameter to control this behavior.\n",
      "  _warn_prf(average, modifier, f\"{metric.capitalize()} is\", result.shape[0])\n",
      "C:\\Users\\vr740\\AppData\\Local\\Packages\\PythonSoftwareFoundation.Python.3.13_qbz5n2kfra8p0\\LocalCache\\local-packages\\Python313\\site-packages\\sklearn\\metrics\\_classification.py:1731: UndefinedMetricWarning: Precision is ill-defined and being set to 0.0 in labels with no predicted samples. Use `zero_division` parameter to control this behavior.\n",
      "  _warn_prf(average, modifier, f\"{metric.capitalize()} is\", result.shape[0])\n"
     ]
    }
   ],
   "source": [
    "from sklearn.model_selection import train_test_split\n",
    "from sklearn.metrics import accuracy_score, classification_report\n",
    "\n",
    "X_train, X_test, y_train, y_test = train_test_split(X_vec, y, test_size=0.2, random_state=42, stratify=y)\n",
    "\n",
    "model = RandomForestClassifier(n_estimators=200, random_state=42)\n",
    "model.fit(X_train, y_train)\n",
    "\n",
    "y_pred = model.predict(X_test)\n",
    "\n",
    "print(\"Test accuracy:\", accuracy_score(y_test, y_pred))\n",
    "print(classification_report(y_test, y_pred, target_names=le.classes_))\n"
   ]
  },
  {
   "cell_type": "markdown",
   "id": "44f26f91",
   "metadata": {},
   "source": [
    "2. Cross-Validation (More Reliable)"
   ]
  },
  {
   "cell_type": "code",
   "execution_count": 32,
   "id": "b002776a",
   "metadata": {},
   "outputs": [
    {
     "name": "stderr",
     "output_type": "stream",
     "text": [
      "C:\\Users\\vr740\\AppData\\Local\\Packages\\PythonSoftwareFoundation.Python.3.13_qbz5n2kfra8p0\\LocalCache\\local-packages\\Python313\\site-packages\\sklearn\\model_selection\\_split.py:811: UserWarning: The least populated class in y has only 2 members, which is less than n_splits=5.\n",
      "  warnings.warn(\n"
     ]
    },
    {
     "name": "stdout",
     "output_type": "stream",
     "text": [
      "Cross-validation accuracy: 0.30833333333333335\n"
     ]
    }
   ],
   "source": [
    "from sklearn.model_selection import cross_val_score\n",
    "\n",
    "scores = cross_val_score(model, X_vec, y, cv=5)\n",
    "print(\"Cross-validation accuracy:\", scores.mean())\n"
   ]
  },
  {
   "cell_type": "code",
   "execution_count": 33,
   "id": "0c394cc2",
   "metadata": {},
   "outputs": [],
   "source": [
    "import pandas as pd\n",
    "from sklearn.model_selection import train_test_split, cross_val_score\n",
    "from sklearn.metrics import accuracy_score, classification_report\n",
    "from sklearn.ensemble import RandomForestClassifier\n",
    "from sklearn.preprocessing import LabelEncoder\n",
    "from sentence_transformers import SentenceTransformer"
   ]
  },
  {
   "cell_type": "markdown",
   "id": "7c24fc65",
   "metadata": {},
   "source": [
    "STEP 1: Load your dataset"
   ]
  },
  {
   "cell_type": "code",
   "execution_count": 34,
   "id": "1316f212",
   "metadata": {},
   "outputs": [
    {
     "name": "stdout",
     "output_type": "stream",
     "text": [
      "Columns: ['StudentID', 'Q1_Favorite_Subjects', 'Q2_Enjoyed_Activities', 'Q3_Strongest_Skills', 'Q4_Work_Style', 'Q5_Workplace_Preference', 'Q6_Exam_Readiness', 'Q7_Location_Preference', 'Q8_Career_Values', 'Q9_LongTerm_Goal', 'Q10_Academic_Background', 'Recommended_Course', 'Recommended_Career', 'Recommended_College_Type', 'Recommendation_Score']\n",
      "Number of samples: 1200\n"
     ]
    }
   ],
   "source": [
    "df = pd.read_csv(\"career_quiz_dataset_1200.csv\")\n",
    "\n",
    "print(\"Columns:\", df.columns.tolist())\n",
    "print(\"Number of samples:\", len(df))"
   ]
  },
  {
   "cell_type": "code",
   "execution_count": 35,
   "id": "cc2a1ec3",
   "metadata": {},
   "outputs": [
    {
     "name": "stdout",
     "output_type": "stream",
     "text": [
      "Unique career clusters: ['Account/Finance' 'Engineer' 'Doctor' 'Analyst' 'Technician' 'Designer'\n",
      " 'Counseling' 'Research']\n"
     ]
    }
   ],
   "source": [
    "career_clusters = {\n",
    "    \"Doctor\": [\"Doctor\", \"Dentist\", \"Ayurveda Doctor\", \"Homeopathy Doctor\"],\n",
    "    \"Engineer\": [\"Software Engineer\", \"Civil Engineer\", \"Mechanical Engineer\",\n",
    "                 \"IT Engineer\", \"Embedded Systems Engineer\"],\n",
    "    \"Technician\": [\"Technician - Electrical\", \"Technician - Mechanical\", \"IT Support/Technician\"],\n",
    "    \"Analyst\": [\"Business Analyst\", \"Economist/Analyst\", \"Investment Analyst\", \n",
    "                \"Financial Analyst\", \"Public Policy Analyst\"],\n",
    "    \"Designer\": [\"Artist/Designer\", \"Junior Designer\"],\n",
    "    \"Research\": [\"Researcher/Archivist\"],\n",
    "    \"Account/Finance\": [\"Accountant\"],\n",
    "    \"Counseling\": [\"Counselor/HR\"],\n",
    "}\n",
    "\n",
    "# Reverse mapping: career → cluster\n",
    "career_to_cluster = {}\n",
    "for cluster, careers in career_clusters.items():\n",
    "    for c in careers:\n",
    "        career_to_cluster[c] = cluster\n",
    "\n",
    "# Map to clusters\n",
    "df[\"CareerCluster\"] = df[\"Recommended_Career\"].map(career_to_cluster)\n",
    "\n",
    "# Drop rows with unmapped careers\n",
    "df = df.dropna(subset=[\"CareerCluster\"])\n",
    "\n",
    "print(\"Unique career clusters:\", df[\"CareerCluster\"].unique())"
   ]
  },
  {
   "cell_type": "code",
   "execution_count": 36,
   "id": "d6890929",
   "metadata": {},
   "outputs": [],
   "source": [
    "# ==============================\n",
    "# STEP 3: Encode target labels\n",
    "# ==============================\n",
    "le = LabelEncoder()\n",
    "y = le.fit_transform(df[\"CareerCluster\"])\n"
   ]
  },
  {
   "cell_type": "code",
   "execution_count": 37,
   "id": "71989373",
   "metadata": {},
   "outputs": [
    {
     "name": "stdout",
     "output_type": "stream",
     "text": [
      "Final dataframe columns: ['StudentID', 'Q1_Favorite_Subjects', 'Q2_Enjoyed_Activities', 'Q3_Strongest_Skills', 'Q4_Work_Style', 'Q5_Workplace_Preference', 'Q6_Exam_Readiness', 'Q7_Location_Preference', 'Q8_Career_Values', 'Q9_LongTerm_Goal', 'Q10_Academic_Background', 'Recommended_Course', 'Recommended_Career', 'Recommended_College_Type', 'Recommendation_Score', 'CareerCluster']\n"
     ]
    }
   ],
   "source": [
    "print(\"Final dataframe columns:\", df.columns.tolist())\n"
   ]
  },
  {
   "cell_type": "code",
   "execution_count": 38,
   "id": "58a1e80d",
   "metadata": {},
   "outputs": [
    {
     "name": "stdout",
     "output_type": "stream",
     "text": [
      "Index(['StudentID', 'Q1_Favorite_Subjects', 'Q2_Enjoyed_Activities',\n",
      "       'Q3_Strongest_Skills', 'Q4_Work_Style', 'Q5_Workplace_Preference',\n",
      "       'Q6_Exam_Readiness', 'Q7_Location_Preference', 'Q8_Career_Values',\n",
      "       'Q9_LongTerm_Goal', 'Q10_Academic_Background', 'Recommended_Course',\n",
      "       'Recommended_Career', 'Recommended_College_Type',\n",
      "       'Recommendation_Score', 'CareerCluster'],\n",
      "      dtype='object')\n"
     ]
    }
   ],
   "source": [
    "print(df.columns)\n"
   ]
  },
  {
   "cell_type": "code",
   "execution_count": 39,
   "id": "b2fbc41e",
   "metadata": {},
   "outputs": [
    {
     "name": "stderr",
     "output_type": "stream",
     "text": [
      "Batches: 100%|██████████| 38/38 [00:02<00:00, 16.47it/s]\n"
     ]
    }
   ],
   "source": [
    "# ==============================\n",
    "# STEP 4: Create text features\n",
    "# ==============================\n",
    "\n",
    "feature_cols = [\n",
    "    \"Q1_Favorite_Subjects\",\n",
    "    \"Q2_Enjoyed_Activities\",\n",
    "    \"Q3_Strongest_Skills\",\n",
    "    \"Q4_Work_Style\",\n",
    "    \"Q5_Workplace_Preference\",\n",
    "    \"Q6_Exam_Readiness\",\n",
    "    \"Q7_Location_Preference\",\n",
    "    \"Q8_Career_Values\",\n",
    "    \"Q9_LongTerm_Goal\",\n",
    "    \"Q10_Academic_Background\"\n",
    "]\n",
    "\n",
    "# Combine all text columns into one string per student\n",
    "df_features = df[feature_cols].astype(str)\n",
    "X_text = df_features.agg(\" \".join, axis=1)\n",
    "\n",
    "# Generate embeddings using sentence-transformers\n",
    "from sentence_transformers import SentenceTransformer\n",
    "\n",
    "model_emb = SentenceTransformer(\"all-MiniLM-L6-v2\")\n",
    "X_vec = model_emb.encode(X_text.tolist(), show_progress_bar=True)\n"
   ]
  },
  {
   "cell_type": "code",
   "execution_count": 40,
   "id": "bd15fb3b",
   "metadata": {},
   "outputs": [
    {
     "name": "stderr",
     "output_type": "stream",
     "text": [
      "Batches: 100%|██████████| 38/38 [00:02<00:00, 16.44it/s]\n"
     ]
    },
    {
     "name": "stdout",
     "output_type": "stream",
     "text": [
      "\n",
      "Test Accuracy: 0.5\n",
      "\n",
      "Classification Report:\n",
      "                  precision    recall  f1-score   support\n",
      "\n",
      "Account/Finance       0.00      0.00      0.00         8\n",
      "        Analyst       0.44      0.34      0.38        41\n",
      "     Counseling       0.00      0.00      0.00        11\n",
      "       Designer       0.00      0.00      0.00        26\n",
      "         Doctor       0.00      0.00      0.00         3\n",
      "       Engineer       0.51      1.00      0.68       105\n",
      "       Research       0.00      0.00      0.00        13\n",
      "     Technician       1.00      0.03      0.06        33\n",
      "\n",
      "       accuracy                           0.50       240\n",
      "      macro avg       0.24      0.17      0.14       240\n",
      "   weighted avg       0.44      0.50      0.37       240\n",
      "\n"
     ]
    },
    {
     "name": "stderr",
     "output_type": "stream",
     "text": [
      "C:\\Users\\vr740\\AppData\\Local\\Packages\\PythonSoftwareFoundation.Python.3.13_qbz5n2kfra8p0\\LocalCache\\local-packages\\Python313\\site-packages\\sklearn\\metrics\\_classification.py:1731: UndefinedMetricWarning: Precision is ill-defined and being set to 0.0 in labels with no predicted samples. Use `zero_division` parameter to control this behavior.\n",
      "  _warn_prf(average, modifier, f\"{metric.capitalize()} is\", result.shape[0])\n",
      "C:\\Users\\vr740\\AppData\\Local\\Packages\\PythonSoftwareFoundation.Python.3.13_qbz5n2kfra8p0\\LocalCache\\local-packages\\Python313\\site-packages\\sklearn\\metrics\\_classification.py:1731: UndefinedMetricWarning: Precision is ill-defined and being set to 0.0 in labels with no predicted samples. Use `zero_division` parameter to control this behavior.\n",
      "  _warn_prf(average, modifier, f\"{metric.capitalize()} is\", result.shape[0])\n",
      "C:\\Users\\vr740\\AppData\\Local\\Packages\\PythonSoftwareFoundation.Python.3.13_qbz5n2kfra8p0\\LocalCache\\local-packages\\Python313\\site-packages\\sklearn\\metrics\\_classification.py:1731: UndefinedMetricWarning: Precision is ill-defined and being set to 0.0 in labels with no predicted samples. Use `zero_division` parameter to control this behavior.\n",
      "  _warn_prf(average, modifier, f\"{metric.capitalize()} is\", result.shape[0])\n"
     ]
    }
   ],
   "source": [
    "# ==============================\n",
    "# STEP 4: Create text features\n",
    "# ==============================\n",
    "feature_cols = [\n",
    "    \"Q1_Favorite_Subjects\",\n",
    "    \"Q2_Enjoyed_Activities\",\n",
    "    \"Q3_Strongest_Skills\",\n",
    "    \"Q4_Work_Style\",\n",
    "    \"Q5_Workplace_Preference\",\n",
    "    \"Q6_Exam_Readiness\",\n",
    "    \"Q7_Location_Preference\",\n",
    "    \"Q8_Career_Values\",\n",
    "    \"Q9_LongTerm_Goal\",\n",
    "    \"Q10_Academic_Background\"\n",
    "]\n",
    "\n",
    "# Combine all text columns into a single string per student\n",
    "df_features = df[feature_cols].astype(str)\n",
    "X_text = df_features.agg(\" \".join, axis=1)\n",
    "\n",
    "# Generate embeddings\n",
    "from sentence_transformers import SentenceTransformer\n",
    "model_emb = SentenceTransformer(\"all-MiniLM-L6-v2\")\n",
    "X_vec = model_emb.encode(X_text.tolist(), show_progress_bar=True)\n",
    "\n",
    "# ==============================\n",
    "# STEP 5: Train-Test Split\n",
    "# ==============================\n",
    "from sklearn.model_selection import train_test_split\n",
    "\n",
    "y = df[\"CareerCluster\"].values  # target variable\n",
    "X_train, X_test, y_train, y_test = train_test_split(\n",
    "    X_vec, y, test_size=0.2, random_state=42, stratify=y\n",
    ")\n",
    "\n",
    "# ==============================\n",
    "# STEP 6: Train RandomForest\n",
    "# ==============================\n",
    "from sklearn.ensemble import RandomForestClassifier\n",
    "\n",
    "clf = RandomForestClassifier(\n",
    "    n_estimators=300,\n",
    "    class_weight=\"balanced\",  # handle imbalanced clusters\n",
    "    random_state=42\n",
    ")\n",
    "clf.fit(X_train, y_train)\n",
    "\n",
    "# ==============================\n",
    "# STEP 7: Evaluate\n",
    "# ==============================\n",
    "from sklearn.metrics import accuracy_score, classification_report\n",
    "\n",
    "y_pred = clf.predict(X_test)\n",
    "print(\"\\nTest Accuracy:\", accuracy_score(y_test, y_pred))\n",
    "print(\"\\nClassification Report:\\n\", classification_report(y_test, y_pred))\n"
   ]
  },
  {
   "cell_type": "code",
   "execution_count": 41,
   "id": "cedb1d01",
   "metadata": {},
   "outputs": [
    {
     "data": {
      "text/plain": [
       "'Counselor/HR'"
      ]
     },
     "execution_count": 41,
     "metadata": {},
     "output_type": "execute_result"
    }
   ],
   "source": [
    "c"
   ]
  },
  {
   "cell_type": "code",
   "execution_count": 42,
   "id": "9fc7cf45",
   "metadata": {},
   "outputs": [
    {
     "name": "stderr",
     "output_type": "stream",
     "text": [
      "Batches: 100%|██████████| 35/35 [00:02<00:00, 16.29it/s]\n"
     ]
    },
    {
     "name": "stdout",
     "output_type": "stream",
     "text": [
      "\n",
      "Test Accuracy: 0.7477477477477478\n",
      "\n",
      "Classification Report:\n",
      "                       precision    recall  f1-score   support\n",
      "\n",
      "  Business & Finance       0.63      0.59      0.61        41\n",
      "   Design & Creative       0.22      0.08      0.11        26\n",
      "         Engineering       0.86      0.99      0.92       138\n",
      "          Healthcare       0.00      0.00      0.00         3\n",
      "Research & Academics       0.25      0.29      0.27        14\n",
      "\n",
      "            accuracy                           0.75       222\n",
      "           macro avg       0.39      0.39      0.38       222\n",
      "        weighted avg       0.69      0.75      0.71       222\n",
      "\n"
     ]
    }
   ],
   "source": [
    "# ==============================\n",
    "# STEP 1: Imports\n",
    "# ==============================\n",
    "import pandas as pd\n",
    "from sklearn.model_selection import train_test_split\n",
    "from sklearn.preprocessing import LabelEncoder\n",
    "from sklearn.ensemble import RandomForestClassifier, VotingClassifier\n",
    "from sklearn.linear_model import LogisticRegression\n",
    "from xgboost import XGBClassifier\n",
    "from sklearn.metrics import accuracy_score, classification_report\n",
    "from imblearn.over_sampling import SMOTE\n",
    "from sentence_transformers import SentenceTransformer\n",
    "from sklearn.feature_extraction.text import TfidfVectorizer\n",
    "import numpy as np\n",
    "\n",
    "# ==============================\n",
    "# STEP 2: Load dataset\n",
    "# ==============================\n",
    "df = pd.read_csv(\"career_quiz_dataset_1200.csv\")  # replace with your CSV path\n",
    "\n",
    "# ==============================\n",
    "# STEP 3: Define career clusters\n",
    "# ==============================\n",
    "career_clusters = {\n",
    "    'Engineering': ['Engineer', 'Technician', 'Embedded Systems Engineer', 'IT Engineer', 'IT Support/Technician', 'Mechanical Engineer', 'Civil Engineer'],\n",
    "    'Business & Finance': ['Account/Finance', 'Analyst', 'Financial Analyst', 'Investment Analyst', 'Business Analyst'],\n",
    "    'Design & Creative': ['Designer', 'Artist/Designer', 'UX Designer', 'Graphic Designer', 'Junior Designer'],\n",
    "    'Healthcare': ['Doctor', 'Counseling', 'Ayurveda Doctor', 'Homeopathy Doctor', 'Dentist'],\n",
    "    'Research & Academics': ['Researcher', 'Public Policy Analyst', 'Economist/Analyst', 'Researcher/Archivist']\n",
    "}\n",
    "\n",
    "def map_to_cluster(career):\n",
    "    for cluster, careers in career_clusters.items():\n",
    "        for c in careers:\n",
    "            if c.lower() in str(career).lower():\n",
    "                return cluster\n",
    "    return None\n",
    "\n",
    "df['CareerCluster'] = df['Recommended_Career'].apply(map_to_cluster)\n",
    "df = df.dropna(subset=['CareerCluster'])\n",
    "\n",
    "# ==============================\n",
    "# STEP 4: Combine text columns\n",
    "# ==============================\n",
    "feature_cols = [\n",
    "    \"Q1_Favorite_Subjects\",\n",
    "    \"Q2_Enjoyed_Activities\",\n",
    "    \"Q3_Strongest_Skills\",\n",
    "    \"Q4_Work_Style\",\n",
    "    \"Q5_Workplace_Preference\",\n",
    "    \"Q6_Exam_Readiness\",\n",
    "    \"Q7_Location_Preference\",\n",
    "    \"Q8_Career_Values\",\n",
    "    \"Q9_LongTerm_Goal\",\n",
    "    \"Q10_Academic_Background\"\n",
    "]\n",
    "\n",
    "df_text = df[feature_cols].astype(str)\n",
    "X_text = df_text.agg(\" \".join, axis=1)\n",
    "\n",
    "# ==============================\n",
    "# STEP 5: Create embeddings and TF-IDF features\n",
    "# ==============================\n",
    "# Sentence embeddings\n",
    "model_emb = SentenceTransformer(\"all-MiniLM-L6-v2\")\n",
    "X_embeddings = model_emb.encode(X_text.tolist(), show_progress_bar=True)\n",
    "\n",
    "# TF-IDF features\n",
    "vectorizer = TfidfVectorizer(max_features=3000, stop_words=\"english\")\n",
    "X_tfidf = vectorizer.fit_transform(X_text)\n",
    "\n",
    "# Combine embeddings + TF-IDF\n",
    "X_combined = np.hstack([X_embeddings, X_tfidf.toarray()])\n",
    "\n",
    "# Encode target labels\n",
    "le = LabelEncoder()\n",
    "y = le.fit_transform(df['CareerCluster'])\n",
    "\n",
    "# ==============================\n",
    "# STEP 6: Train-Test Split & SMOTE\n",
    "# ==============================\n",
    "X_train, X_test, y_train, y_test = train_test_split(\n",
    "    X_combined, y, test_size=0.2, random_state=42, stratify=y\n",
    ")\n",
    "\n",
    "smote = SMOTE(random_state=42)\n",
    "X_train_res, y_train_res = smote.fit_resample(X_train, y_train)\n",
    "\n",
    "# ==============================\n",
    "# STEP 7: Train Soft Voting Ensemble\n",
    "# ==============================\n",
    "xgb_clf = XGBClassifier(\n",
    "    n_estimators=250,\n",
    "    max_depth=8,\n",
    "    learning_rate=0.1,\n",
    "    objective='multi:softprob',  # softprob for probability outputs\n",
    "    eval_metric='mlogloss',\n",
    "    random_state=42\n",
    ")\n",
    "\n",
    "rf_clf = RandomForestClassifier(\n",
    "    n_estimators=250,\n",
    "    max_depth=None,\n",
    "    class_weight='balanced',\n",
    "    random_state=42\n",
    ")\n",
    "\n",
    "lr_clf = LogisticRegression(\n",
    "    max_iter=2000,\n",
    "    class_weight='balanced',\n",
    "    random_state=42\n",
    ")\n",
    "\n",
    "voting_clf = VotingClassifier(\n",
    "    estimators=[('xgb', xgb_clf), ('rf', rf_clf), ('lr', lr_clf)],\n",
    "    voting='soft'  # use probabilities to reduce bias toward large classes\n",
    ")\n",
    "\n",
    "voting_clf.fit(X_train_res, y_train_res)\n",
    "\n",
    "# ==============================\n",
    "# STEP 8: Evaluate Model\n",
    "# ==============================\n",
    "y_pred = voting_clf.predict(X_test)\n",
    "\n",
    "print(\"\\nTest Accuracy:\", accuracy_score(y_test, y_pred))\n",
    "print(\"\\nClassification Report:\\n\", classification_report(y_test, y_pred, target_names=le.classes_))\n"
   ]
  },
  {
   "cell_type": "code",
   "execution_count": 43,
   "id": "0100b9ef",
   "metadata": {},
   "outputs": [
    {
     "data": {
      "text/plain": [
       "['models/label_encoder.joblib']"
      ]
     },
     "execution_count": 43,
     "metadata": {},
     "output_type": "execute_result"
    }
   ],
   "source": [
    "# Run in your notebook after training finishes\n",
    "import os, joblib\n",
    "# create folder\n",
    "os.makedirs(\"models\", exist_ok=True)\n",
    "\n",
    "# 1) save sentence-transformer (preferred method)\n",
    "model_emb.save(\"models/emb_model\")   # SentenceTransformer.save\n",
    "\n",
    "# 2) save TF-IDF vectorizer, classifier and label encoder\n",
    "joblib.dump(vectorizer, \"models/tfidf_vectorizer.joblib\")\n",
    "joblib.dump(voting_clf, \"models/voting_clf.joblib\")\n",
    "joblib.dump(le, \"models/label_encoder.joblib\")"
   ]
  },
  {
   "cell_type": "code",
   "execution_count": 44,
   "id": "17a2ecb2",
   "metadata": {},
   "outputs": [
    {
     "name": "stdout",
     "output_type": "stream",
     "text": [
      "Defaulting to user installation because normal site-packages is not writeable\n",
      "Note: you may need to restart the kernel to use updated packages.\n"
     ]
    },
    {
     "name": "stderr",
     "output_type": "stream",
     "text": [
      "ERROR: Could not find a version that satisfies the requirement model_emb (from versions: none)\n",
      "ERROR: No matching distribution found for model_emb\n"
     ]
    }
   ],
   "source": [
    "pip install model_emb"
   ]
  },
  {
   "cell_type": "code",
   "execution_count": 45,
   "id": "527f93d5",
   "metadata": {},
   "outputs": [
    {
     "name": "stdout",
     "output_type": "stream",
     "text": [
      "Defaulting to user installation because normal site-packages is not writeable\n",
      "Requirement already satisfied: joblib in c:\\users\\vr740\\appdata\\local\\packages\\pythonsoftwarefoundation.python.3.13_qbz5n2kfra8p0\\localcache\\local-packages\\python313\\site-packages (1.5.2)\n",
      "Note: you may need to restart the kernel to use updated packages.\n"
     ]
    }
   ],
   "source": [
    "pip install joblib"
   ]
  },
  {
   "cell_type": "code",
   "execution_count": 46,
   "id": "ddd43dbb",
   "metadata": {},
   "outputs": [
    {
     "data": {
      "text/plain": [
       "['..\\\\backend\\\\quiz_label_encoder.pkl']"
      ]
     },
     "execution_count": 46,
     "metadata": {},
     "output_type": "execute_result"
    }
   ],
   "source": [
    "import os, joblib\n",
    "\n",
    "# Path to backend folder\n",
    "backend_path = os.path.join(\"..\", \"backend\")  # go up 1 folder, then into backend\n",
    "\n",
    "# Save model\n",
    "joblib.dump(voting_clf, os.path.join(backend_path, \"career_1200_model.pkl\"))\n",
    "\n",
    "# Save vectorizer\n",
    "joblib.dump(vectorizer, os.path.join(backend_path, \"quiz_vectorizer.pkl\"))\n",
    "\n",
    "# Save label encoder\n",
    "joblib.dump(le, os.path.join(backend_path, \"quiz_label_encoder.pkl\"))\n"
   ]
  }
 ],
 "metadata": {
  "kernelspec": {
   "display_name": "Python 3",
   "language": "python",
   "name": "python3"
  },
  "language_info": {
   "codemirror_mode": {
    "name": "ipython",
    "version": 3
   },
   "file_extension": ".py",
   "mimetype": "text/x-python",
   "name": "python",
   "nbconvert_exporter": "python",
   "pygments_lexer": "ipython3",
   "version": "3.13.7"
  }
 },
 "nbformat": 4,
 "nbformat_minor": 5
}
